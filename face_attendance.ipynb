{
 "cells": [
  {
   "cell_type": "code",
   "execution_count": 1,
   "metadata": {},
   "outputs": [],
   "source": [
    "import cv2\n",
    "import os\n",
    "import numpy as np\n",
    "import pandas as pd\n",
    "import dlib\n",
    "import face_recognition as fr\n",
    "from datetime import datetime"
   ]
  },
  {
   "cell_type": "code",
   "execution_count": 2,
   "metadata": {},
   "outputs": [
    {
     "data": {
      "text/plain": [
       "['apj.jpeg',\n",
       " 'mammootty.jpeg',\n",
       " 'MESSI.jpg',\n",
       " 'mohanlal.jpeg',\n",
       " 'Pranav.jpg',\n",
       " 'Sachin.jpg',\n",
       " 'sehwag.jpg']"
      ]
     },
     "execution_count": 2,
     "metadata": {},
     "output_type": "execute_result"
    }
   ],
   "source": [
    "path='images'\n",
    "image_list=os.listdir(path)\n",
    "image_list\n"
   ]
  },
  {
   "cell_type": "code",
   "execution_count": 3,
   "metadata": {},
   "outputs": [],
   "source": [
    "input_data=[]\n",
    "output_data=[]\n",
    "for img in image_list:\n",
    "    imgpath=os.path.join(path,img)\n",
    "    current_img=cv2.imread(imgpath)\n",
    "    input_data.append(current_img)\n",
    "    output_data.append(img.split('.')[0])"
   ]
  },
  {
   "cell_type": "code",
   "execution_count": 4,
   "metadata": {},
   "outputs": [],
   "source": [
    "encoded_list=[]\n",
    "def encoding(input):\n",
    "    for i in input:\n",
    "        conv_imgs=cv2.cvtColor(i,cv2.COLOR_BGR2RGB)\n",
    "        face_coord=fr.face_locations(conv_imgs)\n",
    "        encoded_list.append(fr.face_encodings(conv_imgs,face_coord)[0])\n",
    "    return encoded_list"
   ]
  },
  {
   "cell_type": "code",
   "execution_count": 5,
   "metadata": {},
   "outputs": [],
   "source": [
    "known_faces_encode=encoding(input_data)"
   ]
  },
  {
   "cell_type": "markdown",
   "metadata": {},
   "source": [
    "read from webcam"
   ]
  },
  {
   "cell_type": "code",
   "execution_count": 6,
   "metadata": {},
   "outputs": [
    {
     "name": "stdout",
     "output_type": "stream",
     "text": [
      "Pranav\n",
      "Pranav\n",
      "Pranav\n",
      "Pranav\n",
      "Pranav\n"
     ]
    }
   ],
   "source": [
    "attendance_rec=[]\n",
    "video=cv2.VideoCapture(0)\n",
    "while True:\n",
    "    success,image=video.read()\n",
    "    conv_img=cv2.cvtColor(image,cv2.COLOR_BGR2RGB)\n",
    "\n",
    "    face_loc=fr.face_locations(conv_img)\n",
    "    face_encode=fr.face_encodings(conv_img,face_loc)\n",
    "\n",
    "    for encode,faceloc in zip(face_encode,face_loc):\n",
    "        matches=fr.compare_faces(known_faces_encode,encode)\n",
    "\n",
    "        face_dist=fr.face_distance(known_faces_encode,encode)\n",
    "\n",
    "        matching_index=np.argmin(face_dist)\n",
    "\n",
    "        if matches[matching_index]:\n",
    "            name=output_data[matching_index]\n",
    "            print(name)\n",
    "        else:\n",
    "            name='unknown'\n",
    "            print(name)\n",
    "\n",
    "        y1,x2,y2,x1=faceloc\n",
    "        cv2.rectangle(image,(x1,y1),(x2,y2),(255,0,0),2)\n",
    "        cv2.putText(image,name,(x1,y1),cv2.FONT_HERSHEY_COMPLEX,1,(255,255,0),1)\n",
    "\n",
    "        if name != 'unknown' and name not in [i['Name'] for i in attendance_rec]:\n",
    "            log={'Name':name,'Time':datetime.now().strftime(\"%Y-%m-%d %H:%M:%S\")}\n",
    "            attendance_rec.append(log)\n",
    "\n",
    "    cv2.imshow(\"Image\",image)\n",
    "    if cv2.waitKey(1) & 0XFF == ord('q'):\n",
    "        break\n",
    "video.release()\n",
    "cv2.destroyAllWindows()\n",
    "\n",
    "if attendance_rec:\n",
    "    attendance_log=pd.DataFrame(attendance_rec)\n",
    "    attendance_log.to_csv('D:/DL_Projects/Face recognition/attendance_log.csv',mode='a',header=False,index=False)\n"
   ]
  },
  {
   "cell_type": "code",
   "execution_count": null,
   "metadata": {},
   "outputs": [],
   "source": []
  }
 ],
 "metadata": {
  "kernelspec": {
   "display_name": "Python 3",
   "language": "python",
   "name": "python3"
  },
  "language_info": {
   "codemirror_mode": {
    "name": "ipython",
    "version": 3
   },
   "file_extension": ".py",
   "mimetype": "text/x-python",
   "name": "python",
   "nbconvert_exporter": "python",
   "pygments_lexer": "ipython3",
   "version": "3.12.3"
  }
 },
 "nbformat": 4,
 "nbformat_minor": 2
}
